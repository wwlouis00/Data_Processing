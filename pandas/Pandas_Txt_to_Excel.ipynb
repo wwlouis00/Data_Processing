{
 "cells": [
  {
   "cell_type": "code",
   "execution_count": 1,
   "id": "f32163ed",
   "metadata": {},
   "outputs": [
    {
     "name": "stdout",
     "output_type": "stream",
     "text": [
      "           Time  index  None   CH1   CH2  CH3  CH4  CH5  CH6  CH7  CH8\n",
      "0     09��40��3      1   NaN  24.1  23.8  0.0  0.0  0.0  0.0  0.0  0.0\n",
      "1     09��40��3      1   NaN  24.1  23.8  0.0  0.0  0.0  0.0  0.0  0.0\n",
      "2     09��40��3      1   NaN  24.1  23.7  0.0  0.0  0.0  0.0  0.0  0.0\n",
      "3     09��40��4      1   NaN  24.1  23.7  0.0  0.0  0.0  0.0  0.0  0.0\n",
      "4     09��40��4      1   NaN  24.1  23.7  0.0  0.0  0.0  0.0  0.0  0.0\n",
      "...         ...    ...   ...   ...   ...  ...  ...  ...  ...  ...  ...\n",
      "2897  10��32��3      1   NaN  48.8  48.8  0.0  0.0  0.0  0.0  0.0  0.0\n",
      "2898  10��32��3      1   NaN  48.7  48.9  0.0  0.0  0.0  0.0  0.0  0.0\n",
      "2899  10��32��3      1   NaN  48.7  48.8  0.0  0.0  0.0  0.0  0.0  0.0\n",
      "2900  10��32��4      1   NaN  48.7  48.9  0.0  0.0  0.0  0.0  0.0  0.0\n",
      "2901  10��32��4      1   NaN  48.7  49.0  0.0  0.0  0.0  0.0  0.0  0.0\n",
      "\n",
      "[2902 rows x 11 columns]\n"
     ]
    }
   ],
   "source": [
    "import pandas as pd\n",
    "df = pd.read_csv('data/2021年12月09日_有刨開.txt',delimiter='\\t')\n",
    "df.columns = ['Time','index','None', 'CH1', 'CH2', 'CH3', 'CH4', 'CH5', 'CH6', 'CH7', 'CH8']\n",
    "print(df)\n",
    "df.to_excel('data/2021年12月09日_有刨開.xlsx')"
   ]
  }
 ],
 "metadata": {
  "kernelspec": {
   "display_name": "Python 3",
   "language": "python",
   "name": "python3"
  },
  "language_info": {
   "codemirror_mode": {
    "name": "ipython",
    "version": 3
   },
   "file_extension": ".py",
   "mimetype": "text/x-python",
   "name": "python",
   "nbconvert_exporter": "python",
   "pygments_lexer": "ipython3",
   "version": "3.8.8"
  }
 },
 "nbformat": 4,
 "nbformat_minor": 5
}
