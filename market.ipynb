{
 "cells": [
  {
   "cell_type": "code",
   "execution_count": 1,
   "metadata": {},
   "outputs": [
    {
     "name": "stdout",
     "output_type": "stream",
     "text": [
      "      項目別             生產值 (千元)     Unnamed: 3                 銷售量  \\\n",
      "0                (0812010)冷凍肉類  (0812130)醃漬食品  (0812010)冷凍肉類 (公噸)   \n",
      "1     89年    1月        1580196         406711               22735   \n",
      "2            2月        1139313         277543               17245   \n",
      "3            3月        1361715         238580               21013   \n",
      "4            4月        1138541         359133               19804   \n",
      "..    ...   ...            ...            ...                 ...   \n",
      "263         11月        3879317         682206               34145   \n",
      "264         12月        4267081         787814               37233   \n",
      "265  111年    1月        4155544         803656               35127   \n",
      "266          2月        3148908         528432               26457   \n",
      "267  \\t\\t  \\t\\t           \\t\\t           \\t\\t                \\t\\t   \n",
      "\n",
      "             Unnamed: 5       銷售值 (千元)     Unnamed: 7   .1  \n",
      "0    (0812130)醃漬食品 (公噸)  (0812010)冷凍肉類  (0812130)醃漬食品       \n",
      "1                  3404        1431402         431639       \n",
      "2                  2856        1134852         314501       \n",
      "3                  2823        1268573         311975       \n",
      "4                  2752        1175686         326292       \n",
      "..                  ...            ...            ...  ...  \n",
      "263                4866        3260867         710504       \n",
      "264                5275        3615312         777257       \n",
      "265                5524        3539170         888220       \n",
      "266                3476        2600875         550646       \n",
      "267                \\t\\t           \\t\\t           \\t\\t  NaN  \n",
      "\n",
      "[268 rows x 9 columns]\n"
     ]
    }
   ],
   "source": [
    "import pandas as pd\n",
    "from datetime import datetime, time\n",
    "from matplotlib.axis import XAxis\n",
    "import plotly.graph_objs as go\n",
    "import os\n",
    "\n",
    "m_csv = pd.read_excel(\"./InquireAdvance.xlsx\")\n",
    "print(m_csv)"
   ]
  }
 ],
 "metadata": {
  "interpreter": {
   "hash": "4d9defa72c2715dab9f7f172572cd30a1ab1a2083462d32ef96aadb7c6e0c73b"
  },
  "kernelspec": {
   "display_name": "Python 3.8.8 ('base')",
   "language": "python",
   "name": "python3"
  },
  "language_info": {
   "codemirror_mode": {
    "name": "ipython",
    "version": 3
   },
   "file_extension": ".py",
   "mimetype": "text/x-python",
   "name": "python",
   "nbconvert_exporter": "python",
   "pygments_lexer": "ipython3",
   "version": "3.8.8"
  },
  "orig_nbformat": 4
 },
 "nbformat": 4,
 "nbformat_minor": 2
}
